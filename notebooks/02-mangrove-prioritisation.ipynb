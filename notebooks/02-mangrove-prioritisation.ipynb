{
 "cells": [
  {
   "cell_type": "code",
   "execution_count": null,
   "metadata": {},
   "outputs": [],
   "source": [
    "import json\n",
    "from pathlib import Path\n",
    "\n",
    "import geopandas\n",
    "import numpy\n",
    "import matplotlib.pyplot as plt\n",
    "import pandas\n",
    "from scipy.integrate import trapezoid"
   ]
  },
  {
   "cell_type": "code",
   "execution_count": null,
   "metadata": {},
   "outputs": [],
   "source": [
    "with open(\"../config.json\", \"r\") as fh:\n",
    "    config = json.load(fh)\n",
    "base_path = Path(config[\"base_path\"])\n",
    "base_path"
   ]
  },
  {
   "cell_type": "code",
   "execution_count": null,
   "metadata": {},
   "outputs": [],
   "source": [
    "with open(\"../scratch/polder_site_relations.json\", \"r\") as fh:\n",
    "    polder_site_relations = json.load(fh)"
   ]
  },
  {
   "cell_type": "code",
   "execution_count": null,
   "metadata": {},
   "outputs": [],
   "source": [
    "import itertools\n",
    "polder_site_link = []\n",
    "for rel in polder_site_relations:\n",
    "    for polder, site in itertools.product(rel['polder_set'], rel['sites_protecting']):\n",
    "        polder_site_link.append({'site': site, 'polder': polder})\n",
    "polder_site_link = pandas.DataFrame(polder_site_link)[['polder','site']].sort_values(by=['polder', 'site']).drop_duplicates()\n",
    "polder_site_link.to_csv(\"../scratch/polder_site_relations.csv\", index=False)"
   ]
  },
  {
   "cell_type": "code",
   "execution_count": null,
   "metadata": {},
   "outputs": [],
   "source": [
    "polder_rp_damages = pandas.read_csv(\"../scratch/polder_rp_damages.csv\")\n",
    "polder_rp_damages.head(1)"
   ]
  },
  {
   "cell_type": "code",
   "execution_count": null,
   "metadata": {},
   "outputs": [],
   "source": [
    "def calculate_ead(df):\n",
    "    df[1] = 0\n",
    "    df[float(\"inf\")] = df[100]\n",
    "    rp_cols = sorted(list(df.columns), key=lambda col: 1 / col)\n",
    "    rps = numpy.array([float(col) for col in rp_cols])\n",
    "    probabilities = 1 / rps\n",
    "    rp_damages = df[rp_cols]\n",
    "    return trapezoid(rp_damages, x=probabilities, axis=1)"
   ]
  },
  {
   "cell_type": "code",
   "execution_count": null,
   "metadata": {},
   "outputs": [],
   "source": [
    "pivoted = polder_rp_damages.pivot(\n",
    "    index=[\"polder_ID\", \"hazard\", \"sector\", \"epoch\", \"rcp\"],\n",
    "    columns=\"rp\",\n",
    "    values=\"damage_euro\",\n",
    ").replace(float(\"NaN\"), 0)\n",
    "pivoted[\"ead_euro\"] = calculate_ead(pivoted)\n",
    "polder_ead_by_sector = pivoted[[\"ead_euro\"]].reset_index()"
   ]
  },
  {
   "cell_type": "code",
   "execution_count": null,
   "metadata": {},
   "outputs": [],
   "source": [
    "polder_ead_by_sector.to_csv(\n",
    "    \"../scratch/polder_ead_by_sector.csv\", index=False, float_format=\"%.2f\"\n",
    ")"
   ]
  },
  {
   "cell_type": "code",
   "execution_count": null,
   "metadata": {},
   "outputs": [],
   "source": [
    "polder_ead_current_by_sector = polder_ead_by_sector.query('(rcp == \"baseline\") & (ead_euro > 0)').drop(columns=[\"epoch\",\"rcp\"])\n",
    "polder_ead_current_by_sector.to_csv(\n",
    "    \"../scratch/polder_ead_current_by_sector.csv\", index=False, float_format=\"%.2f\"\n",
    ")"
   ]
  },
  {
   "cell_type": "code",
   "execution_count": null,
   "metadata": {},
   "outputs": [],
   "source": [
    "all_polders = polder_ead_current_by_sector.drop(columns=[\"hazard\"]).groupby([\"polder_ID\", \"sector\"]).max().reset_index().drop(columns=[\"polder_ID\"]).groupby(\"sector\").sum()\n",
    "all_polders.columns = [\"EAD (2022 Euro)\"]\n",
    "all_polders.index = all_polders.reset_index().sector.str.title().str.replace(\"_\", \" \")\n",
    "all_polders.index.name = \"\"\n",
    "fig = all_polders.plot(kind=\"bar\",logy=True, ylabel=\"EAD (2022 Euro)\", legend=False).get_figure()\n"
   ]
  },
  {
   "cell_type": "code",
   "execution_count": null,
   "metadata": {},
   "outputs": [],
   "source": [
    "fig.savefig(\"../scratch/polder_all_ead.png\", bbox_inches=\"tight\")"
   ]
  },
  {
   "cell_type": "code",
   "execution_count": null,
   "metadata": {},
   "outputs": [],
   "source": [
    "polder_ead = (\n",
    "    polder_ead_by_sector.drop(columns=\"sector\")\n",
    "    .groupby([\"polder_ID\", \"hazard\", \"epoch\", \"rcp\"])\n",
    "    .sum()\n",
    ")"
   ]
  },
  {
   "cell_type": "code",
   "execution_count": null,
   "metadata": {},
   "outputs": [],
   "source": [
    "polder_ead.to_csv(\"../scratch/polder_ead.csv\", float_format=\"%.2f\")"
   ]
  },
  {
   "cell_type": "code",
   "execution_count": null,
   "metadata": {},
   "outputs": [],
   "source": [
    "polder_max_current_benefit = (\n",
    "    polder_ead.reset_index()\n",
    "    .query(\"rcp == 'baseline'\")\n",
    "    .drop(columns=[\"epoch\", \"rcp\", \"hazard\"])\n",
    "    .groupby(\"polder_ID\")\n",
    "    .max()\n",
    ")"
   ]
  },
  {
   "cell_type": "code",
   "execution_count": null,
   "metadata": {},
   "outputs": [],
   "source": [
    "polder_max_current_benefit.to_csv(\n",
    "    \"../scratch/polder_ead_current_max.csv\", float_format=\"%.2f\"\n",
    ")"
   ]
  },
  {
   "cell_type": "code",
   "execution_count": null,
   "metadata": {},
   "outputs": [],
   "source": [
    "fig = polder_max_current_benefit.sort_values(by=\"polder_ID\").plot(kind=\"bar\", legend=False, xlabel=\"Polder ID\", ylabel=\"EAD (2022 Euro)\", fontsize=8).get_figure()"
   ]
  },
  {
   "cell_type": "code",
   "execution_count": null,
   "metadata": {},
   "outputs": [],
   "source": [
    "fig.savefig(\"../scratch/polder_ead.png\", bbox_inches=\"tight\")"
   ]
  },
  {
   "cell_type": "code",
   "execution_count": null,
   "metadata": {},
   "outputs": [],
   "source": [
    "polder_max_current_benefit.sum() / 1e6"
   ]
  },
  {
   "cell_type": "code",
   "execution_count": null,
   "metadata": {},
   "outputs": [],
   "source": [
    "site_benefit = []\n",
    "site_individual_benefit = []\n",
    "for p in polder_site_relations:\n",
    "    polder_ids = p[\"polder_set\"]\n",
    "    site_ids = p[\"sites_protecting\"]\n",
    "    max_benefit = polder_max_current_benefit.loc[polder_ids].ead_euro.sum()\n",
    "    site_benefit.append(\n",
    "        {\n",
    "            \"sites_protecting\": site_ids,\n",
    "            \"polders_protected\": polder_ids,\n",
    "            \"combined_protected_polder_exposure__ead_euro\": max_benefit,\n",
    "        }\n",
    "    )\n",
    "    for site in site_ids:\n",
    "        site_individual_benefit.append(\n",
    "            {\n",
    "                \"site_protecting\": site,\n",
    "                \"polders_protected\": polder_ids,\n",
    "                \"combined_protected_polder_exposure__ead_euro\": max_benefit,\n",
    "            }\n",
    "        )\n",
    "site_benefit = pandas.DataFrame(site_benefit).sort_values(\n",
    "    by=\"combined_protected_polder_exposure__ead_euro\", ascending=False\n",
    ")\n",
    "site_individual_benefit = pandas.DataFrame(site_individual_benefit).sort_values(\n",
    "    by=\"combined_protected_polder_exposure__ead_euro\", ascending=False\n",
    ")"
   ]
  },
  {
   "cell_type": "code",
   "execution_count": null,
   "metadata": {},
   "outputs": [],
   "source": [
    "site_benefit.to_csv(\"../scratch/site_benefit.csv\", index=False, float_format=\"%.2f\")\n",
    "site_individual_benefit.to_csv(\n",
    "    \"../scratch/site_benefit_individual.csv\", index=False, float_format=\"%.2f\"\n",
    ")"
   ]
  },
  {
   "cell_type": "code",
   "execution_count": null,
   "metadata": {},
   "outputs": [],
   "source": [
    "sites_with_polders = geopandas.read_file(\n",
    "    \"../scratch/potential_sites_with_polders.gpkg\", engine=\"pyogrio\"\n",
    ")"
   ]
  },
  {
   "cell_type": "code",
   "execution_count": null,
   "metadata": {},
   "outputs": [],
   "source": [
    "sites_with_polder_benefits = sites_with_polders.merge(\n",
    "    site_individual_benefit,\n",
    "    how=\"left\",\n",
    "    left_on=\"potential_site_id\",\n",
    "    right_on=\"site_protecting\",\n",
    "    validate=\"one_to_one\",\n",
    ").drop(columns=\"site_protecting\")"
   ]
  },
  {
   "cell_type": "code",
   "execution_count": null,
   "metadata": {},
   "outputs": [],
   "source": [
    "sites_with_polder_benefits.to_file(\n",
    "    \"../scratch/potential_sites_with_polder_exposure.gpkg\", engine=\"pyogrio\"\n",
    ")"
   ]
  },
  {
   "cell_type": "markdown",
   "metadata": {},
   "source": [
    "## Copy results from scratch directory"
   ]
  },
  {
   "cell_type": "code",
   "execution_count": null,
   "metadata": {},
   "outputs": [],
   "source": [
    "import shutil\n",
    "from glob import glob\n",
    "\n",
    "results_path = base_path / \"impact\" / \"mangrove_protection_potential\"\n",
    "results_path.mkdir(exist_ok=True, parents=True)"
   ]
  },
  {
   "cell_type": "code",
   "execution_count": null,
   "metadata": {},
   "outputs": [],
   "source": [
    "shutil.copy(\"../scratch/potential_sites_with_polder_exposure.gpkg\", results_path)\n",
    "for fname in glob(\"../scratch/polder_*\"):\n",
    "    shutil.copy(fname, results_path)"
   ]
  },
  {
   "cell_type": "code",
   "execution_count": null,
   "metadata": {},
   "outputs": [],
   "source": [
    "glob(str(results_path / \"*\"))"
   ]
  },
  {
   "cell_type": "code",
   "execution_count": null,
   "metadata": {},
   "outputs": [],
   "source": []
  }
 ],
 "metadata": {
  "kernelspec": {
   "display_name": "Python 3 (ipykernel)",
   "language": "python",
   "name": "python3"
  },
  "language_info": {
   "codemirror_mode": {
    "name": "ipython",
    "version": 3
   },
   "file_extension": ".py",
   "mimetype": "text/x-python",
   "name": "python",
   "nbconvert_exporter": "python",
   "pygments_lexer": "ipython3",
   "version": "3.11.9"
  }
 },
 "nbformat": 4,
 "nbformat_minor": 4
}
