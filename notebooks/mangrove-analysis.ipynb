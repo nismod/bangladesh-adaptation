{
 "cells": [
  {
   "cell_type": "code",
   "execution_count": null,
   "metadata": {},
   "outputs": [],
   "source": [
    "import json\n",
    "from collections import defaultdict\n",
    "from glob import glob\n",
    "from pathlib import Path\n",
    "\n",
    "import geopandas\n",
    "import pandas"
   ]
  },
  {
   "cell_type": "code",
   "execution_count": null,
   "metadata": {},
   "outputs": [],
   "source": [
    "with open(\"../config.json\", \"r\") as fh:\n",
    "    config = json.load(fh)\n",
    "base_path = Path(config[\"base_path\"])\n",
    "base_path"
   ]
  },
  {
   "cell_type": "code",
   "execution_count": null,
   "metadata": {},
   "outputs": [],
   "source": [
    "def list_paths(paths, prefix):\n",
    "    return sorted(p.replace(str(prefix), \"\") for p in paths)"
   ]
  },
  {
   "cell_type": "code",
   "execution_count": null,
   "metadata": {},
   "outputs": [],
   "source": [
    "feature_damage_paths = [\n",
    "    p\n",
    "    for p in glob(\n",
    "        str(\n",
    "            base_path\n",
    "            / \"Bangladesh GCA-UNOPS data\"\n",
    "            / \"Data\"\n",
    "            / \"Output2\"\n",
    "            / \"**\"\n",
    "            / \"*.csv\"\n",
    "        ),\n",
    "        recursive=True,\n",
    "    )\n",
    "    if \"Feature\" in p\n",
    "]\n",
    "list_paths(\n",
    "    feature_damage_paths, base_path / \"Bangladesh GCA-UNOPS data\" / \"Data\" / \"Output2\"\n",
    ")"
   ]
  },
  {
   "cell_type": "code",
   "execution_count": null,
   "metadata": {},
   "outputs": [],
   "source": [
    "feature_paths = glob(\n",
    "    str(base_path / \"Bangladesh_GIS_database\" / \"infrastructure-layers\" / \"**\" / \"*\"),\n",
    "    recursive=True,\n",
    ")\n",
    "list_paths(\n",
    "    feature_paths, base_path / \"Bangladesh_GIS_database\" / \"infrastructure-layers\"\n",
    ")"
   ]
  },
  {
   "cell_type": "code",
   "execution_count": null,
   "metadata": {},
   "outputs": [],
   "source": [
    "health_sites = next(p for p in feature_paths if \"health\" in p)\n",
    "health_sites"
   ]
  },
  {
   "cell_type": "code",
   "execution_count": null,
   "metadata": {},
   "outputs": [],
   "source": [
    "features = geopandas.read_file(health_sites, engine=\"pyogrio\")\n",
    "list(features.columns)"
   ]
  },
  {
   "cell_type": "code",
   "execution_count": null,
   "metadata": {},
   "outputs": [],
   "source": [
    "len(features.geometry), len(features.geometry.unique()), features.loc[0, \"geometry\"]"
   ]
  },
  {
   "cell_type": "code",
   "execution_count": null,
   "metadata": {},
   "outputs": [],
   "source": [
    "health_sites_damages = next(p for p in feature_damage_paths if \"health\" in p)\n",
    "health_sites_damages"
   ]
  },
  {
   "cell_type": "code",
   "execution_count": null,
   "metadata": {},
   "outputs": [],
   "source": [
    "damage = pandas.read_csv(health_sites_damages)\n",
    "damage.columns"
   ]
  },
  {
   "cell_type": "markdown",
   "metadata": {},
   "source": [
    "## Polders, restoration sites"
   ]
  },
  {
   "cell_type": "code",
   "execution_count": null,
   "metadata": {},
   "outputs": [],
   "source": [
    "DISTANCE_WITHIN_M = (\n",
    "    5_000  # distance for selection of polder-to-restoration-site relations (in metres)\n",
    ")"
   ]
  },
  {
   "cell_type": "code",
   "execution_count": null,
   "metadata": {},
   "outputs": [],
   "source": [
    "protected_polders = geopandas.read_file(\n",
    "    base_path / \"infrastructure\" / \"protectedPolders\" / \"Polders_selected.shp\",\n",
    "    engine=\"pyogrio\",\n",
    ").to_crs(epsg=9678)"
   ]
  },
  {
   "cell_type": "code",
   "execution_count": null,
   "metadata": {},
   "outputs": [],
   "source": [
    "len(protected_polders.polder_ID.unique()), len(protected_polders)"
   ]
  },
  {
   "cell_type": "code",
   "execution_count": null,
   "metadata": {},
   "outputs": [],
   "source": [
    "restoration_sites = geopandas.read_file(\n",
    "    base_path\n",
    "    / \"nature-ecosystems\"\n",
    "    / \"Potential Mangrove Restoration Sites\"\n",
    "    / \"potential_sites_epsg9678.gpkg\",\n",
    "    engine=\"pyogrio\",\n",
    ").explode(index_parts=False)"
   ]
  },
  {
   "cell_type": "code",
   "execution_count": null,
   "metadata": {},
   "outputs": [],
   "source": [
    "restoration_sites[\"potential_site_id\"] = range(len(restoration_sites))"
   ]
  },
  {
   "cell_type": "code",
   "execution_count": null,
   "metadata": {},
   "outputs": [],
   "source": [
    "restoration_sites.tail(2)"
   ]
  },
  {
   "cell_type": "code",
   "execution_count": null,
   "metadata": {},
   "outputs": [],
   "source": [
    "restoration_sites_buf = restoration_sites.copy()\n",
    "restoration_sites_buf.geometry = restoration_sites.buffer(DISTANCE_WITHIN_M)"
   ]
  },
  {
   "cell_type": "code",
   "execution_count": null,
   "metadata": {},
   "outputs": [],
   "source": [
    "site_polder_intersection = (\n",
    "    protected_polders.sjoin(restoration_sites_buf, how=\"left\", predicate=\"intersects\")[\n",
    "        [\"polder_ID\", \"potential_site_id\"]\n",
    "    ]\n",
    "    .sort_values(by=\"polder_ID\")\n",
    "    .reset_index(drop=True)\n",
    ")"
   ]
  },
  {
   "cell_type": "code",
   "execution_count": null,
   "metadata": {},
   "outputs": [],
   "source": [
    "site_polder_intersection"
   ]
  },
  {
   "cell_type": "code",
   "execution_count": null,
   "metadata": {},
   "outputs": [],
   "source": [
    "# each site is within DISTANCE_WITHIN_M of a set of one or more polders\n",
    "# that may be protected if the site is restored\n",
    "# (site 1 may protect polders A and B, site 2 => polder C)\n",
    "site_to_polders = defaultdict(set)\n",
    "# this is all the different sets of polders that are within DISTANCE_WITHIN_M\n",
    "# of any potential site\n",
    "# (polders A and B or polder C)\n",
    "polder_sets = set()\n",
    "# each set of polders is within DISTANCE_WITHIN_M of a set of sites that\n",
    "# may protect them\n",
    "# (polders A and B may be protected by site 1, polder C => site 2)\n",
    "polder_set_to_sites = defaultdict(set)\n",
    "\n",
    "lookup = site_polder_intersection.set_index(\"potential_site_id\")\n",
    "for site in site_polder_intersection.potential_site_id.unique():\n",
    "    site_polders = lookup.loc[site, \"polder_ID\"]\n",
    "    if isinstance(site_polders, str):\n",
    "        polder_set = frozenset([site_polders])\n",
    "    else:\n",
    "        polder_set = frozenset(site_polders)\n",
    "    site_to_polders[site] = polder_set\n",
    "    polder_sets.add(polder_set)\n",
    "    polder_set_to_sites[polder_set].add(site)"
   ]
  }
 ],
 "metadata": {
  "kernelspec": {
   "display_name": "Python 3 (ipykernel)",
   "language": "python",
   "name": "python3"
  },
  "language_info": {
   "codemirror_mode": {
    "name": "ipython",
    "version": 3
   },
   "file_extension": ".py",
   "mimetype": "text/x-python",
   "name": "python",
   "nbconvert_exporter": "python",
   "pygments_lexer": "ipython3",
   "version": "3.11.7"
  }
 },
 "nbformat": 4,
 "nbformat_minor": 4
}
