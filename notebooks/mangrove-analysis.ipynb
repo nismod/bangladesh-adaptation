{
 "cells": [
  {
   "cell_type": "code",
   "execution_count": null,
   "metadata": {},
   "outputs": [],
   "source": [
    "import json\n",
    "from glob import glob\n",
    "from pathlib import Path\n",
    "\n",
    "import geopandas\n",
    "import pandas"
   ]
  },
  {
   "cell_type": "code",
   "execution_count": null,
   "metadata": {},
   "outputs": [],
   "source": [
    "with open(\"../config.json\", 'r') as fh:\n",
    "    config = json.load(fh)\n",
    "base_path = Path(config[\"base_path\"])\n",
    "base_path"
   ]
  },
  {
   "cell_type": "code",
   "execution_count": null,
   "metadata": {},
   "outputs": [],
   "source": [
    "def list_paths(paths, prefix):\n",
    "    return sorted(p.replace(str(prefix), \"\") for p in paths)"
   ]
  },
  {
   "cell_type": "code",
   "execution_count": null,
   "metadata": {},
   "outputs": [],
   "source": [
    "feature_damage_paths = [p for p in glob(str(base_path / \"Bangladesh GCA-UNOPS data\" / \"Data\" / \"Output2\" / \"**\" / \"*.csv\" ), recursive=True) if \"Feature\" in p]\n",
    "list_paths(feature_damage_paths, base_path / \"Bangladesh GCA-UNOPS data\" / \"Data\" / \"Output2\")"
   ]
  },
  {
   "cell_type": "code",
   "execution_count": null,
   "metadata": {},
   "outputs": [],
   "source": [
    "feature_paths = glob(str(base_path /  \"Bangladesh_GIS_database\"/ \"infrastructure-layers\" / \"**\" / \"*\" ), recursive=True)\n",
    "list_paths(feature_paths, base_path / \"Bangladesh_GIS_database\" / \"infrastructure-layers\")"
   ]
  },
  {
   "cell_type": "code",
   "execution_count": null,
   "metadata": {},
   "outputs": [],
   "source": [
    "health_sites = next(p for p in feature_paths if \"health\" in p)\n",
    "health_sites"
   ]
  },
  {
   "cell_type": "code",
   "execution_count": null,
   "metadata": {},
   "outputs": [],
   "source": [
    "features = geopandas.read_file(health_sites, engine='pyogrio')\n",
    "list(features.columns)"
   ]
  },
  {
   "cell_type": "code",
   "execution_count": null,
   "metadata": {},
   "outputs": [],
   "source": [
    "len(features.geometry), len(features.geometry.unique()), features.loc[0, \"geometry\"]"
   ]
  },
  {
   "cell_type": "code",
   "execution_count": null,
   "metadata": {},
   "outputs": [],
   "source": [
    "health_sites_damages = next(p for p in feature_damage_paths if \"health\" in p)\n",
    "health_sites_damages"
   ]
  },
  {
   "cell_type": "code",
   "execution_count": null,
   "metadata": {},
   "outputs": [],
   "source": [
    "damage = pandas.read_csv(health_sites_damages)\n",
    "damage.columns"
   ]
  }
 ],
 "metadata": {
  "kernelspec": {
   "display_name": "Python 3 (ipykernel)",
   "language": "python",
   "name": "python3"
  },
  "language_info": {
   "codemirror_mode": {
    "name": "ipython",
    "version": 3
   },
   "file_extension": ".py",
   "mimetype": "text/x-python",
   "name": "python",
   "nbconvert_exporter": "python",
   "pygments_lexer": "ipython3",
   "version": "3.11.7"
  }
 },
 "nbformat": 4,
 "nbformat_minor": 4
}
